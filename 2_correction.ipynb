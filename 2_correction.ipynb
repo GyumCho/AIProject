{
 "cells": [
  {
   "cell_type": "markdown",
   "id": "115b0f18",
   "metadata": {},
   "source": [
    "## 2.1 Select subset of romance languages from dataset"
   ]
  },
  {
   "cell_type": "markdown",
   "id": "6d5d5b52",
   "metadata": {},
   "source": [
    "From the processed dataset that contains english sentences, speakers of the following languages are selected: Spanish, Catalan, Basque, Galician, Italian and French"
   ]
  },
  {
   "cell_type": "code",
   "execution_count": null,
   "id": "bbeab9f6",
   "metadata": {},
   "outputs": [],
   "source": [
    "import pandas as pd\n",
    "import numpy as np\n",
    "from happytransformer import HappyTextToText, TTSettings\n",
    "from tqdm import tqdm\n",
    "\n",
    "csv_file = pd.read_csv(\"./data/new_data_utf.csv\", encoding='utf-8')\n",
    "dataset = csv_file[['id','native','language','probabilities','english_only','text']]\n",
    "\n",
    "# merge same categories\n",
    "ds['native'].mask(ds['native'] == 'Basque<br/>Spanish', 'Spanish<br/>Basque', inplace=True)\n",
    "ds['native'].mask(ds['native'] == 'Catalan<br/>Spanish', 'Spanish<br/>Catalan', inplace=True)\n",
    "ds['native'].mask(ds['native'] == 'Galician<br/>Spanish', 'Spanish<br/>Galician', inplace=True)\n",
    "ds['native'].mask(ds['native'] == 'Italian<br/>Spanish', 'Spanish<br/>Italian', inplace=True)\n",
    "\n",
    "\n",
    "# filtering by language\n",
    "la_list = ['Spanish<br/>Catalan','Spanish<br/>Galician',\n",
    "'Spanish<br/>Basque','Spanish<br/>Italian', 'Italian', 'French','Spanish']\n",
    "mask = ds['native'].isin(la_list)\n",
    "dataset_selection = ds[mask]\n",
    "\n",
    "dataset_selection.to_csv('./data/selected_subset_clean.csv')"
   ]
  },
  {
   "cell_type": "markdown",
   "id": "bf1bff9e",
   "metadata": {},
   "source": [
    "## 2.2 Compute correct sentences"
   ]
  },
  {
   "cell_type": "code",
   "execution_count": null,
   "id": "f21cef9c",
   "metadata": {},
   "outputs": [],
   "source": [
    "from transformers import AutoTokenizer, T5ForConditionalGeneration, pipeline"
   ]
  },
  {
   "cell_type": "code",
   "execution_count": null,
   "id": "9b94e1b6-6d98-4934-9eb5-1384960f9afc",
   "metadata": {},
   "outputs": [
    {
     "name": "stderr",
     "output_type": "stream",
     "text": [
      "11/09/2023 09:02:36 - INFO - happytransformer.happy_transformer -   Using device: mps\n",
      "Processing texts:   0%|          | 0/1887 [00:00<?, ?it/s]11/09/2023 09:02:37 - INFO - happytransformer.happy_transformer -   Moving model to mps\n",
      "11/09/2023 09:02:37 - INFO - happytransformer.happy_transformer -   Initializing a pipeline\n",
      "Processing texts:  34%|███▍      | 639/1887 [18:59<24:43,  1.19s/it]  "
     ]
    }
   ],
   "source": [
    "tokenizer = AutoTokenizer.from_pretrained(\"grammarly/coedit-large\")\n",
    "model = pipeline(\"text2text-generation\", model=\"grammarly/coedit-large\", tokenizer=tokenizer, max_length=250, device=0)"
   ]
  },
  {
   "cell_type": "code",
   "execution_count": null,
   "id": "2467492c",
   "metadata": {},
   "outputs": [],
   "source": [
    "df = pd.read_csv('./data/selected_subset_clean.csv')"
   ]
  },
  {
   "cell_type": "code",
   "execution_count": null,
   "id": "dc5314f0",
   "metadata": {},
   "outputs": [],
   "source": [
    "def fix_error(x):\n",
    "    input_text = \"Fix grammatical errors in this sentence:\"+x\n",
    "    outputs = model(input_text)\n",
    "    return outputs[0]['generated_text']\n",
    "\n",
    "df['corrected'] = df.apply(lambda x: fix_error(x['original']), axis=1)"
   ]
  },
  {
   "cell_type": "code",
   "execution_count": null,
   "id": "c73f4da2",
   "metadata": {},
   "outputs": [],
   "source": [
    "df.to_csv('/')"
   ]
  }
 ],
 "metadata": {
  "kernelspec": {
   "display_name": "Python 3 (ipykernel)",
   "language": "python",
   "name": "python3"
  },
  "language_info": {
   "codemirror_mode": {
    "name": "ipython",
    "version": 3
   },
   "file_extension": ".py",
   "mimetype": "text/x-python",
   "name": "python",
   "nbconvert_exporter": "python",
   "pygments_lexer": "ipython3",
   "version": "3.11.4"
  }
 },
 "nbformat": 4,
 "nbformat_minor": 5
}
