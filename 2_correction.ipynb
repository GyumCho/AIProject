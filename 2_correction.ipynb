{
 "cells": [
  {
   "cell_type": "markdown",
   "id": "115b0f18",
   "metadata": {},
   "source": [
    "## 2.1 Select subset of romance languages from dataset"
   ]
  },
  {
   "cell_type": "markdown",
   "id": "61699ec6",
   "metadata": {},
   "source": [
    "From the processed dataset that contains english sentences, speakers of the following languages are selected: Spanish, Catalan, Basque, Galician, Italian and French"
   ]
  },
  {
   "cell_type": "code",
   "execution_count": 1,
   "id": "2555292d",
   "metadata": {},
   "outputs": [
    {
     "name": "stderr",
     "output_type": "stream",
     "text": [
      "C:\\Users\\thoma\\anaconda3\\envs\\gram2\\lib\\site-packages\\tqdm\\auto.py:21: TqdmWarning: IProgress not found. Please update jupyter and ipywidgets. See https://ipywidgets.readthedocs.io/en/stable/user_install.html\n",
      "  from .autonotebook import tqdm as notebook_tqdm\n"
     ]
    }
   ],
   "source": [
    "import pandas as pd\n",
    "import numpy as np\n",
    "from happytransformer import HappyTextToText, TTSettings\n",
    "from tqdm import tqdm\n",
    "from transformers import AutoTokenizer, T5ForConditionalGeneration, pipeline"
   ]
  },
  {
   "cell_type": "code",
   "execution_count": 8,
   "id": "bb2c5b72",
   "metadata": {},
   "outputs": [],
   "source": [
    "#suppress warning\n",
    "pd.options.mode.chained_assignment = None  # default='warn'"
   ]
  },
  {
   "cell_type": "code",
   "execution_count": 9,
   "id": "bbeab9f6",
   "metadata": {},
   "outputs": [],
   "source": [
    "csv_file = pd.read_csv(\"./data/english_only_refined.csv\", encoding='utf-8')\n",
    "ds = csv_file[['id','native','language','text']]\n",
    "\n",
    "# merge same categories\n",
    "ds['native'].mask(ds['native'] == 'Basque<br/>Spanish', 'Spanish<br/>Basque', inplace=True)\n",
    "ds['native'].mask(ds['native'] == 'Catalan<br/>Spanish', 'Spanish<br/>Catalan', inplace=True)\n",
    "ds['native'].mask(ds['native'] == 'Galician<br/>Spanish', 'Spanish<br/>Galician', inplace=True)\n",
    "ds['native'].mask(ds['native'] == 'Italian<br/>Spanish', 'Spanish<br/>Italian', inplace=True)\n",
    "\n",
    "\n",
    "# filtering by language\n",
    "la_list = ['Spanish<br/>Catalan','Spanish<br/>Galician',\n",
    "'Spanish<br/>Basque','Spanish<br/>Italian', 'Italian', 'French','Spanish']\n",
    "mask = ds['native'].isin(la_list)\n",
    "dataset_selection = ds[mask]\n",
    "\n",
    "dataset_selection.to_csv('./data/selected_subset_clean.csv')"
   ]
  },
  {
   "cell_type": "code",
   "execution_count": 10,
   "id": "83b63135",
   "metadata": {},
   "outputs": [
    {
     "data": {
      "text/html": [
       "<div>\n",
       "<style scoped>\n",
       "    .dataframe tbody tr th:only-of-type {\n",
       "        vertical-align: middle;\n",
       "    }\n",
       "\n",
       "    .dataframe tbody tr th {\n",
       "        vertical-align: top;\n",
       "    }\n",
       "\n",
       "    .dataframe thead th {\n",
       "        text-align: right;\n",
       "    }\n",
       "</style>\n",
       "<table border=\"1\" class=\"dataframe\">\n",
       "  <thead>\n",
       "    <tr style=\"text-align: right;\">\n",
       "      <th></th>\n",
       "      <th>native</th>\n",
       "      <th>text</th>\n",
       "    </tr>\n",
       "  </thead>\n",
       "  <tbody>\n",
       "    <tr>\n",
       "      <th>1</th>\n",
       "      <td>Spanish&lt;br/&gt;Catalan</td>\n",
       "      <td>I'm looking for a language exchange to improve...</td>\n",
       "    </tr>\n",
       "    <tr>\n",
       "      <th>3</th>\n",
       "      <td>Italian</td>\n",
       "      <td>i am here for learn english and i help you wit...</td>\n",
       "    </tr>\n",
       "    <tr>\n",
       "      <th>15</th>\n",
       "      <td>Spanish&lt;br/&gt;Catalan</td>\n",
       "      <td>I am from Barcelona and I speak Spanish and Ca...</td>\n",
       "    </tr>\n",
       "    <tr>\n",
       "      <th>22</th>\n",
       "      <td>Spanish</td>\n",
       "      <td>Hey, I'm interested in improving my English (I...</td>\n",
       "    </tr>\n",
       "    <tr>\n",
       "      <th>30</th>\n",
       "      <td>Spanish</td>\n",
       "      <td>Hi, I'm trying to improve my english conversat...</td>\n",
       "    </tr>\n",
       "  </tbody>\n",
       "</table>\n",
       "</div>"
      ],
      "text/plain": [
       "                 native                                               text\n",
       "1   Spanish<br/>Catalan  I'm looking for a language exchange to improve...\n",
       "3               Italian  i am here for learn english and i help you wit...\n",
       "15  Spanish<br/>Catalan  I am from Barcelona and I speak Spanish and Ca...\n",
       "22              Spanish  Hey, I'm interested in improving my English (I...\n",
       "30              Spanish  Hi, I'm trying to improve my english conversat..."
      ]
     },
     "execution_count": 10,
     "metadata": {},
     "output_type": "execute_result"
    }
   ],
   "source": [
    "dataset_selection[['native','text']].head(5)"
   ]
  },
  {
   "cell_type": "markdown",
   "id": "bf1bff9e",
   "metadata": {},
   "source": [
    "## 2.2 Compute correct sentences"
   ]
  },
  {
   "cell_type": "code",
   "execution_count": null,
   "id": "9b94e1b6-6d98-4934-9eb5-1384960f9afc",
   "metadata": {},
   "outputs": [
    {
     "name": "stderr",
     "output_type": "stream",
     "text": [
      "11/09/2023 09:02:36 - INFO - happytransformer.happy_transformer -   Using device: mps\n",
      "Processing texts:   0%|          | 0/1887 [00:00<?, ?it/s]11/09/2023 09:02:37 - INFO - happytransformer.happy_transformer -   Moving model to mps\n",
      "11/09/2023 09:02:37 - INFO - happytransformer.happy_transformer -   Initializing a pipeline\n",
      "Processing texts:  34%|███▍      | 639/1887 [18:59<24:43,  1.19s/it]  "
     ]
    }
   ],
   "source": [
    "tokenizer = AutoTokenizer.from_pretrained(\"grammarly/coedit-large\")\n",
    "model = pipeline(\"text2text-generation\", model=\"grammarly/coedit-large\", tokenizer=tokenizer, max_length=250, device=0)"
   ]
  },
  {
   "cell_type": "code",
   "execution_count": null,
   "id": "2467492c",
   "metadata": {},
   "outputs": [],
   "source": [
    "df = pd.read_csv('./data/selected_subset_clean.csv')"
   ]
  },
  {
   "cell_type": "code",
   "execution_count": null,
   "id": "dc5314f0",
   "metadata": {},
   "outputs": [],
   "source": [
    "def fix_error(x):\n",
    "    input_text = \"Fix grammatical errors in this sentence:\"+x\n",
    "    outputs = model(input_text)\n",
    "    return outputs[0]['generated_text']\n",
    "\n",
    "df['corrected'] = df.apply(lambda x: fix_error(x['original']), axis=1)"
   ]
  },
  {
   "cell_type": "code",
   "execution_count": null,
   "id": "c73f4da2",
   "metadata": {},
   "outputs": [],
   "source": [
    "df[['original','corrected','native']].to_csv('data_corrected.csv')"
   ]
  }
 ],
 "metadata": {
  "kernelspec": {
   "display_name": "gram2",
   "language": "python",
   "name": "gram2"
  },
  "language_info": {
   "codemirror_mode": {
    "name": "ipython",
    "version": 3
   },
   "file_extension": ".py",
   "mimetype": "text/x-python",
   "name": "python",
   "nbconvert_exporter": "python",
   "pygments_lexer": "ipython3",
   "version": "3.10.13"
  }
 },
 "nbformat": 4,
 "nbformat_minor": 5
}
