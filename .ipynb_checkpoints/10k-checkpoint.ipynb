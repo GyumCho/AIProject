{
 "cells": [
  {
   "cell_type": "code",
   "execution_count": 8,
   "id": "9ca2bc56-b0ab-4736-ba10-6f40ac91138f",
   "metadata": {},
   "outputs": [
    {
     "name": "stderr",
     "output_type": "stream",
     "text": [
      "/var/folders/pl/wj42m65s2ng3tpsb296dtstc0000gn/T/ipykernel_33311/373481506.py:6: DtypeWarning: Columns (9,10,11,12,13,14,15,16,17,18,19,20,21,22,23,24,25,26,27,28,29,30,31,32,33,34,35,36,37,38,39,40,41,42) have mixed types. Specify dtype option on import or set low_memory=False.\n",
      "  sentences = pd.read_csv(\"./data/errors50k.csv\")\n"
     ]
    }
   ],
   "source": [
    "import pandas as pd \n",
    "import numpy as np\n",
    "\n",
    "dataset_size = 10000\n",
    "freqs = pd.read_csv(\"./data/error_freq.csv\")\n",
    "sentences = pd.read_csv(\"./data/errors50k.csv\")\n",
    "\n",
    "# print(freqs)\n",
    "\n",
    "err_counter = pd.DataFrame(columns=[\"type\", \"numbers\"])\n",
    "matches =['M:VERB:FORM', 'R:PART', 'U:VERB:FORM', 'M:CONJ', 'R:ORTH']\n",
    "important_matches = ['U:OTHER']\n",
    "even_more_important = ['M:VERB:FORM']\n",
    "\n",
    "def matcher(x):\n",
    "    if pd.isna(x):\n",
    "        return 0\n",
    "    for i in even_more_important:\n",
    "        if i.lower() in x.lower():\n",
    "            return 3\n",
    "    for i in important_matches:\n",
    "        if i.lower() in x.lower():\n",
    "            return 2\n",
    "    for i in matches:\n",
    "        if i.lower() in x.lower():\n",
    "            return 1\n",
    "    else:\n",
    "        return 0\n",
    "\n",
    "\n",
    "sentences['firstt'] = sentences['errors'].apply(matcher)"
   ]
  },
  {
   "cell_type": "code",
   "execution_count": 9,
   "id": "df155186-7ce6-47cf-b550-03d613cf5681",
   "metadata": {},
   "outputs": [],
   "source": [
    "for i in freqs.iterrows():\n",
    "    err_counter = pd.concat([err_counter, pd.DataFrame([[i[1]['type'], round(dataset_size * i[1]['proportion'])]], columns=[\"type\", \"numbers\"])])\n",
    "# sentences.iloc[sentences.agg({\"errors\":len}).sort_values(\"errors\", ascending=False).index]\n",
    "# print(err_counter)\n",
    "s = sentences.firstt.sort_values(ascending=False).index\n",
    "\n",
    "sentences = sentences.reindex(s)\n",
    "\n",
    "err_counter.set_index(\"type\", inplace=True)\n",
    "\n",
    "# print(err_counter.loc[\"R:ORTH\"])\n",
    "result = pd.DataFrame(columns=[\"input\", \"target\", \"errors\"])\n",
    "uerrors = 0\n",
    "for sentence in sentences.iterrows():\n",
    "    if pd.isna(sentence[1][\"errors\"]):\n",
    "        continue\n",
    "    errors = sentence[1][\"errors\"].split(\", \")\n",
    "    if 'M:VERB:FORM' in errors:\n",
    "        uerrors += 1\n",
    "    add = True\n",
    "    for error in errors:\n",
    "        if not(error in err_counter.index) or err_counter.loc[error][0] <= 0:\n",
    "            add = False\n",
    "\n",
    "    if add:\n",
    "        result = pd.concat([result, pd.DataFrame([{\"input\": sentence[1][\"input\"], \"target\": sentence[1][\"output\"], \"errors\": sentence[1][\"errors\"]}])])\n",
    "        for error in errors:\n",
    "            err_counter.loc[error][0] -= 1"
   ]
  },
  {
   "cell_type": "code",
   "execution_count": 10,
   "id": "332acf44-3f0d-48e9-bbd5-3e7286df738a",
   "metadata": {},
   "outputs": [],
   "source": []
  }
 ],
 "metadata": {
  "kernelspec": {
   "display_name": "Python 3 (ipykernel)",
   "language": "python",
   "name": "python3"
  },
  "language_info": {
   "codemirror_mode": {
    "name": "ipython",
    "version": 3
   },
   "file_extension": ".py",
   "mimetype": "text/x-python",
   "name": "python",
   "nbconvert_exporter": "python",
   "pygments_lexer": "ipython3",
   "version": "3.11.4"
  }
 },
 "nbformat": 4,
 "nbformat_minor": 5
}
