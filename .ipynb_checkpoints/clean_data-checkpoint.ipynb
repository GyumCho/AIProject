{
 "cells": [
  {
   "cell_type": "code",
   "execution_count": 4,
   "id": "eca68acd-8626-4813-9a73-15702f087d10",
   "metadata": {},
   "outputs": [],
   "source": [
    "import pandas as pd\n",
    "import numpy as np\n",
    "\n",
    "csv_file = pd.read_csv(\"./data/new_data_utf.csv\", encoding='utf-8')\n",
    "dataset = csv_file[['id','native','language','probabilities','english_only','text']]\n",
    "\n",
    "# removing duplicates\n",
    "print(f'Orginal Length: {len(dataset)}')\n",
    "dup_removed = dataset.drop_duplicates(['native','language','text'])\n",
    "print(f'New Length: \\t{len(dup_removed)}')\n",
    "\n",
    "#dup_removed.to_csv('new_data_clean.csv')\n",
    "#ds = pd.read_csv(\"new_data_clean.csv\", encoding='unicode_escape')\n",
    "\n",
    "ds = dup_removed.copy()\n",
    "\n",
    "# grouping dialects \n",
    "ds['native'].mask(ds['native'] == 'Basque<br/>Spanish', 'Spanish<br/>Basque', inplace=True)\n",
    "ds['native'].mask(ds['native'] == 'Catalan<br/>Spanish', 'Spanish<br/>Catalan', inplace=True)\n",
    "ds['native'].mask(ds['native'] == 'Galician<br/>Spanish', 'Spanish<br/>Galician', inplace=True)\n",
    "ds['native'].mask(ds['native'] == 'Italian<br/>Spanish', 'Spanish<br/>Italian', inplace=True)\n",
    "\n",
    "\n",
    "# filtering by language\n",
    "la_list = ['Spanish<br/>Catalan','Spanish<br/>Galician',\n",
    "'Spanish<br/>Basque','Spanish<br/>Italian', 'Italian', 'French','Spanish']\n",
    "mask = ds['native'].isin(la_list)\n",
    "dataset_selection = ds[mask]\n",
    "'''\n",
    "print(len(dataset_selection))\n",
    "print(dataset_selection['native'].value_counts())\n",
    "'''\n",
    "\n",
    "dataset_selection.to_csv('./data/data_selected_clean.csv')"
   ]
  },
  {
   "cell_type": "code",
   "execution_count": null,
   "id": "185f828f-dcdb-43f5-b56e-ef14059efc32",
   "metadata": {},
   "outputs": [],
   "source": []
  }
 ],
 "metadata": {
  "kernelspec": {
   "display_name": "Python 3 (ipykernel)",
   "language": "python",
   "name": "python3"
  },
  "language_info": {
   "codemirror_mode": {
    "name": "ipython",
    "version": 3
   },
   "file_extension": ".py",
   "mimetype": "text/x-python",
   "name": "python",
   "nbconvert_exporter": "python",
   "pygments_lexer": "ipython3",
   "version": "3.11.4"
  }
 },
 "nbformat": 4,
 "nbformat_minor": 5
}
