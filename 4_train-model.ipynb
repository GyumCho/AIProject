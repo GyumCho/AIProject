{
 "cells": [
  {
   "cell_type": "code",
   "execution_count": null,
   "id": "6a9eccfa-bded-4acd-a0c9-abb68a255272",
   "metadata": {},
   "outputs": [],
   "source": [
    "import pandas as pd\n",
    "from happytransformer import HappyTextToText, TTSettings\n",
    "\n",
    "happy_tt = HappyTextToText(\"T5\", \"prithivida/grammar_error_correcter_v1\")\n",
    "happy_tt.train(\"./data/10k.csv\")"
   ]
  },
  {
   "cell_type": "code",
   "execution_count": null,
   "id": "cd5445ce-5b2c-4a6f-a2f2-2095b854996d",
   "metadata": {},
   "outputs": [],
   "source": [
    "happy_tt.model.save_pretrained(\"french_model\")"
   ]
  },
  {
   "cell_type": "code",
   "execution_count": 3,
   "id": "24ed57ef-ba10-4241-9e0f-cdb6f98b90ef",
   "metadata": {},
   "outputs": [
    {
     "name": "stderr",
     "output_type": "stream",
     "text": [
      "11/08/2023 15:35:27 - INFO - happytransformer.happy_transformer -   Using device: mps\n",
      "11/08/2023 15:35:27 - INFO - happytransformer.happy_transformer -   Moving model to mps\n",
      "11/08/2023 15:35:27 - INFO - happytransformer.happy_transformer -   Initializing a pipeline\n"
     ]
    },
    {
     "data": {
      "text/plain": [
       "'I am happy.'"
      ]
     },
     "execution_count": 3,
     "metadata": {},
     "output_type": "execute_result"
    }
   ],
   "source": [
    "import pandas as pd\n",
    "from happytransformer import HappyTextToText, TTSettings\n",
    "\n",
    "happy_tt = HappyTextToText(\"French\", \"./french_model\")\n",
    "# or HappyTextToText(\"T5\", \"vennify/t5-base-grammar-correction\")\n",
    "args = TTSettings(num_beams=5, min_length=1, max_length=100)\n",
    "# An example\n",
    "sentence = 'I are happy'\n",
    "result = happy_tt.generate_text(\"gec: \" + sentence, args=args)\n",
    "result.text"
   ]
  }
 ],
 "metadata": {
  "kernelspec": {
   "display_name": "Python 3 (ipykernel)",
   "language": "python",
   "name": "python3"
  },
  "language_info": {
   "codemirror_mode": {
    "name": "ipython",
    "version": 3
   },
   "file_extension": ".py",
   "mimetype": "text/x-python",
   "name": "python",
   "nbconvert_exporter": "python",
   "pygments_lexer": "ipython3",
   "version": "3.10.9"
  }
 },
 "nbformat": 4,
 "nbformat_minor": 5
}
