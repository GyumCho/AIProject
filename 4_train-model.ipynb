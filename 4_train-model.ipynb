{
 "cells": [
  {
   "cell_type": "markdown",
   "id": "a45379d3",
   "metadata": {},
   "source": [
    "## 4 Model Training"
   ]
  },
  {
   "cell_type": "code",
   "execution_count": null,
   "id": "6a9eccfa-bded-4acd-a0c9-abb68a255272",
   "metadata": {},
   "outputs": [],
   "source": [
    "import pandas as pd\n",
    "from happytransformer import HappyTextToText, TTSettings"
   ]
  },
  {
   "cell_type": "code",
   "execution_count": null,
   "id": "04981069",
   "metadata": {},
   "outputs": [],
   "source": [
    "happy_tt = HappyTextToText(\"text2text-generation\", \"pszemraj/grammar-synthesis-small\")\n",
    "\n",
    "args = TTTrainArgs(batch_size=8)\n",
    "happy_tt.train(\"/content/drive/MyDrive/corrupt/train_3k.csv\", args=args)\n",
    "happy_tt.model.save_pretrained(\"french_model\")"
   ]
  },
  {
   "cell_type": "markdown",
   "id": "15d08487",
   "metadata": {},
   "source": [
    "### Load saved model"
   ]
  },
  {
   "cell_type": "code",
   "execution_count": 3,
   "id": "24ed57ef-ba10-4241-9e0f-cdb6f98b90ef",
   "metadata": {},
   "outputs": [
    {
     "name": "stderr",
     "output_type": "stream",
     "text": [
      "11/08/2023 15:35:27 - INFO - happytransformer.happy_transformer -   Using device: mps\n",
      "11/08/2023 15:35:27 - INFO - happytransformer.happy_transformer -   Moving model to mps\n",
      "11/08/2023 15:35:27 - INFO - happytransformer.happy_transformer -   Initializing a pipeline\n"
     ]
    },
    {
     "data": {
      "text/plain": [
       "'I am happy.'"
      ]
     },
     "execution_count": 3,
     "metadata": {},
     "output_type": "execute_result"
    }
   ],
   "source": [
    "happy_tt = HappyTextToText(\"French\", \"./french_model\")\n",
    "\n",
    "args = TTSettings(num_beams=5, min_length=1, max_length=200)\n",
    "\n",
    "sentence = 'I are happy'\n",
    "result = happy_tt.generate_text(\"gec: \" + sentence, args=args)\n",
    "result.text"
   ]
  }
 ],
 "metadata": {
  "kernelspec": {
   "display_name": "Python 3 (ipykernel)",
   "language": "python",
   "name": "python3"
  },
  "language_info": {
   "codemirror_mode": {
    "name": "ipython",
    "version": 3
   },
   "file_extension": ".py",
   "mimetype": "text/x-python",
   "name": "python",
   "nbconvert_exporter": "python",
   "pygments_lexer": "ipython3",
   "version": "3.11.4"
  }
 },
 "nbformat": 4,
 "nbformat_minor": 5
}
