{
 "cells": [
  {
   "cell_type": "markdown",
   "id": "a330807d",
   "metadata": {},
   "source": [
    "## Compute frequencies for subset"
   ]
  },
  {
   "cell_type": "code",
   "execution_count": null,
   "id": "4bbb5a21",
   "metadata": {},
   "outputs": [],
   "source": [
    "import pandas as pd\n",
    "from tqdm import tqdm\n",
    "import errant\n",
    "import spacy\n",
    "import seaborn as sns\n",
    "import matplotlib.pyplot as plt\n",
    "import numpy as np\n",
    "\n",
    "nlp = spacy.load('en_core_web_sm')\n",
    "annotator = errant.load('en', nlp)\n",
    "\n",
    "df = pd.read_csv(\"./data/corrected_data.csv\")\n",
    "\n",
    "error_types = []\n",
    "temp_data = df.head(5)\n",
    "for i in tqdm(range(len(df))):\n",
    "    temp_data = df.iloc[i]\n",
    "    orig = annotator.parse(temp_data['original'])\n",
    "    cor = annotator.parse(temp_data['modified'])\n",
    "    edits = annotator.annotate(orig, cor)\n",
    "    for e in edits:\n",
    "        error_types.append(e.type)\n",
    "        #print(e.o_start, e.o_end, e.o_str, e.c_start, e.c_end, e.c_str, e.type)\n",
    "        \n",
    "error_df = pd.DataFrame(columns = ['type'], data=error_types)\n",
    "#error_df.head()\n",
    "\n",
    "#error_df.value_counts(normalize=True)\n",
    "\n",
    "freq = pd.DataFrame(error_df.value_counts(), columns=['count'])\n",
    "freq = freq.reset_index()\n",
    "\n",
    "plt.figure(figsize=(20,8))\n",
    "pl = sns.barplot(x='type', y='count', data=freq)\n",
    "plt.xticks(rotation=45)\n",
    "\n",
    "pl.axes.set_yscale('log')\n",
    "plt.show()"
   ]
  },
  {
   "cell_type": "markdown",
   "id": "21d160ae",
   "metadata": {},
   "source": [
    "## Select sample from large dataset"
   ]
  },
  {
   "cell_type": "code",
   "execution_count": 3,
   "id": "3ae1ad94-bc0e-4efb-a7da-7fdfd4b29e57",
   "metadata": {},
   "outputs": [
    {
     "name": "stderr",
     "output_type": "stream",
     "text": [
      "  0%|          | 0/50000 [00:00<?, ?it/s]/var/folders/pl/wj42m65s2ng3tpsb296dtstc0000gn/T/ipykernel_21819/3126753873.py:18: SettingWithCopyWarning: \n",
      "A value is trying to be set on a copy of a slice from a DataFrame.\n",
      "Try using .loc[row_indexer,col_indexer] = value instead\n",
      "\n",
      "See the caveats in the documentation: https://pandas.pydata.org/pandas-docs/stable/user_guide/indexing.html#returning-a-view-versus-a-copy\n",
      "  df.loc[i, 'errors'] = str([e.type for e in edits]).replace('[', '').replace(']','').replace(\"'\",'')\n",
      "100%|██████████| 50000/50000 [08:20<00:00, 99.85it/s] \n"
     ]
    }
   ],
   "source": [
    "parq = pd.read_parquet('./data/0001.parquet', engine='fastparquet')\n",
    "df = parq.head(50000)\n",
    "\n",
    "nlp = spacy.load('en_core_web_sm')\n",
    "annotator = errant.load('en', nlp)\n",
    "\n",
    "for i in tqdm(range(len(df))):\n",
    "    temp_data = df.iloc[i]\n",
    "    orig = annotator.parse(temp_data['input'])\n",
    "    cor = annotator.parse(temp_data['output'])\n",
    "    edits = annotator.annotate(orig, cor)\n",
    "    df.loc[i, 'errors'] = str([e.type for e in edits]).replace('[', '').replace(']','').replace(\"'\",'')\n",
    "    #print(e.o_start, e.o_end, e.o_str, e.c_start, e.c_end, e.c_str, e.type)\n",
    "        \n",
    "df.to_csv(\"./data/errors50k.csv\")"
   ]
  },
  {
   "cell_type": "markdown",
   "id": "05879e59",
   "metadata": {},
   "source": [
    "## Recreate dataset with similar frequencies"
   ]
  },
  {
   "cell_type": "code",
   "execution_count": null,
   "id": "39a9f600",
   "metadata": {},
   "outputs": [],
   "source": [
    "dataset_size = 10000\n",
    "freqs = pd.read_csv(\"./data/error_freq.csv\")\n",
    "sentences = pd.read_csv(\"./data/errors50k.csv\")\n",
    "\n",
    "# print(freqs)\n",
    "\n",
    "err_counter = pd.DataFrame(columns=[\"type\", \"numbers\"])\n",
    "matches =['M:VERB:FORM', 'R:PART', 'U:VERB:FORM', 'M:CONJ', 'R:ORTH']\n",
    "important_matches = ['U:OTHER']\n",
    "even_more_important = ['M:VERB:FORM']\n",
    "\n",
    "def matcher(x):\n",
    "    if pd.isna(x):\n",
    "        return 0\n",
    "    for i in even_more_important:\n",
    "        if i.lower() in x.lower():\n",
    "            return 3\n",
    "    for i in important_matches:\n",
    "        if i.lower() in x.lower():\n",
    "            return 2\n",
    "    for i in matches:\n",
    "        if i.lower() in x.lower():\n",
    "            return 1\n",
    "    else:\n",
    "        return 0\n",
    "\n",
    "\n",
    "sentences['firstt'] = sentences['errors'].apply(matcher)"
   ]
  },
  {
   "cell_type": "code",
   "execution_count": null,
   "id": "b0e871ae",
   "metadata": {},
   "outputs": [],
   "source": [
    "for i in freqs.iterrows():\n",
    "    err_counter = pd.concat([err_counter, pd.DataFrame([[i[1]['type'], round(dataset_size * i[1]['proportion'])]], columns=[\"type\", \"numbers\"])])\n",
    "# sentences.iloc[sentences.agg({\"errors\":len}).sort_values(\"errors\", ascending=False).index]\n",
    "# print(err_counter)\n",
    "s = sentences.firstt.sort_values(ascending=False).index\n",
    "\n",
    "sentences = sentences.reindex(s)\n",
    "\n",
    "err_counter.set_index(\"type\", inplace=True)\n",
    "\n",
    "# print(err_counter.loc[\"R:ORTH\"])\n",
    "result = pd.DataFrame(columns=[\"input\", \"target\", \"errors\"])\n",
    "uerrors = 0\n",
    "for sentence in sentences.iterrows():\n",
    "    if pd.isna(sentence[1][\"errors\"]):\n",
    "        continue\n",
    "    errors = sentence[1][\"errors\"].split(\", \")\n",
    "    if 'M:VERB:FORM' in errors:\n",
    "        uerrors += 1\n",
    "    add = True\n",
    "    for error in errors:\n",
    "        if not(error in err_counter.index) or err_counter.loc[error][0] <= 0:\n",
    "            add = False\n",
    "\n",
    "    if add:\n",
    "        result = pd.concat([result, pd.DataFrame([{\"input\": sentence[1][\"input\"], \"target\": sentence[1][\"output\"], \"errors\": sentence[1][\"errors\"]}])])\n",
    "        for error in errors:\n",
    "            err_counter.loc[error][0] -= 1"
   ]
  },
  {
   "cell_type": "code",
   "execution_count": null,
   "id": "072cb2eb",
   "metadata": {},
   "outputs": [],
   "source": [
    "result.to_csv(\"./data/10k.csv\", index=False)"
   ]
  }
 ],
 "metadata": {
  "kernelspec": {
   "display_name": "Python 3 (ipykernel)",
   "language": "python",
   "name": "python3"
  },
  "language_info": {
   "codemirror_mode": {
    "name": "ipython",
    "version": 3
   },
   "file_extension": ".py",
   "mimetype": "text/x-python",
   "name": "python",
   "nbconvert_exporter": "python",
   "pygments_lexer": "ipython3",
   "version": "3.11.4"
  }
 },
 "nbformat": 4,
 "nbformat_minor": 5
}
